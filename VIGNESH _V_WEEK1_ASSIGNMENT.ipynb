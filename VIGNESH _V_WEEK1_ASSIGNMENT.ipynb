{
 "cells": [
  {
   "cell_type": "code",
   "execution_count": 11,
   "id": "308b9aa7",
   "metadata": {},
   "outputs": [
    {
     "name": "stdout",
     "output_type": "stream",
     "text": [
      "Enter the number 1:6\n",
      "Enter the number 2:3\n",
      "9 :add\n",
      "3 :sub\n",
      "18 :mul\n",
      "2.0 :div\n",
      "0 mod\n"
     ]
    }
   ],
   "source": [
    "#AS1\n",
    "#arithmetic operation\n",
    "a=int(input(\"Enter the number 1:\"))\n",
    "b=int(input(\"Enter the number 2:\"))\n",
    "print(a+b,\":add\")\n",
    "print(a-b,\":sub\")\n",
    "print(a*b,\":mul\")\n",
    "print(a/b,\":div\")\n",
    "print(a%b,\"mod\") "
   ]
  },
  {
   "cell_type": "code",
   "execution_count": 27,
   "id": "3d772bd7",
   "metadata": {},
   "outputs": [
    {
     "name": "stdout",
     "output_type": "stream",
     "text": [
      "Enter the number:0\n",
      "Zero\n"
     ]
    }
   ],
   "source": [
    "#conditional operator\n",
    "#AS\n",
    "num=int(input(\"Enter the number:\"))\n",
    "if num>0:\n",
    "    print(\"positive number\")\n",
    "elif num<0:\n",
    "    print(\"Negative number\")\n",
    "else:\n",
    "    print(\"Zero\")"
   ]
  },
  {
   "cell_type": "code",
   "execution_count": 11,
   "id": "977ee083",
   "metadata": {},
   "outputs": [
    {
     "name": "stdout",
     "output_type": "stream",
     "text": [
      "nohtyp tamrof sicsab rof  ecnetnes a ni esu  esrever\n"
     ]
    }
   ],
   "source": [
    "#reverse order\n",
    "string=\"reverse  use in a sentence  for bascis format python\"\n",
    "reverse_ord=string[::-1]\n",
    "print(reverse_ord)"
   ]
  },
  {
   "cell_type": "code",
   "execution_count": null,
   "id": "51779c79",
   "metadata": {},
   "outputs": [],
   "source": []
  }
 ],
 "metadata": {
  "kernelspec": {
   "display_name": "Python 3 (ipykernel)",
   "language": "python",
   "name": "python3"
  },
  "language_info": {
   "codemirror_mode": {
    "name": "ipython",
    "version": 3
   },
   "file_extension": ".py",
   "mimetype": "text/x-python",
   "name": "python",
   "nbconvert_exporter": "python",
   "pygments_lexer": "ipython3",
   "version": "3.10.13"
  }
 },
 "nbformat": 4,
 "nbformat_minor": 5
}
